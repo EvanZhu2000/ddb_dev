{
 "cells": [
  {
   "cell_type": "code",
   "execution_count": 2,
   "id": "2b2dc009",
   "metadata": {},
   "outputs": [],
   "source": [
    "import pandas as pd\n",
    "import numpy as np\n",
    "import matplotlib.pyplot as plt\n",
    "import torch\n",
    "import torch.nn as nn\n",
    "import torch.optim as optim\n",
    "import torch.nn.functional as F\n",
    "from torch.utils.data import Dataset, DataLoader\n",
    "import warnings\n",
    "import json\n",
    "from datetime import datetime"
   ]
  },
  {
   "cell_type": "code",
   "execution_count": 4,
   "id": "993f7106",
   "metadata": {},
   "outputs": [
    {
     "data": {
      "text/html": [
       "<div>\n",
       "<style scoped>\n",
       "    .dataframe tbody tr th:only-of-type {\n",
       "        vertical-align: middle;\n",
       "    }\n",
       "\n",
       "    .dataframe tbody tr th {\n",
       "        vertical-align: top;\n",
       "    }\n",
       "\n",
       "    .dataframe thead th {\n",
       "        text-align: right;\n",
       "    }\n",
       "</style>\n",
       "<table border=\"1\" class=\"dataframe\">\n",
       "  <thead>\n",
       "    <tr style=\"text-align: right;\">\n",
       "      <th></th>\n",
       "      <th>timestamp</th>\n",
       "      <th>symbol</th>\n",
       "      <th>open</th>\n",
       "      <th>high</th>\n",
       "      <th>low</th>\n",
       "      <th>close</th>\n",
       "      <th>volume</th>\n",
       "      <th>open_interest</th>\n",
       "      <th>settlement_price</th>\n",
       "      <th>turnover</th>\n",
       "    </tr>\n",
       "  </thead>\n",
       "  <tbody>\n",
       "    <tr>\n",
       "      <th>0</th>\n",
       "      <td>2024-01-01 09:30:00</td>\n",
       "      <td>IH2406</td>\n",
       "      <td>2502.74</td>\n",
       "      <td>2504.28</td>\n",
       "      <td>2500.80</td>\n",
       "      <td>2500.80</td>\n",
       "      <td>3645</td>\n",
       "      <td>100092</td>\n",
       "      <td>2499.37</td>\n",
       "      <td>2.734621e+09</td>\n",
       "    </tr>\n",
       "    <tr>\n",
       "      <th>1</th>\n",
       "      <td>2024-01-01 09:30:00</td>\n",
       "      <td>IF2406</td>\n",
       "      <td>3804.16</td>\n",
       "      <td>3806.51</td>\n",
       "      <td>3801.21</td>\n",
       "      <td>3801.21</td>\n",
       "      <td>3645</td>\n",
       "      <td>100092</td>\n",
       "      <td>3799.04</td>\n",
       "      <td>4.156623e+09</td>\n",
       "    </tr>\n",
       "    <tr>\n",
       "      <th>2</th>\n",
       "      <td>2024-01-01 09:31:00</td>\n",
       "      <td>IH2406</td>\n",
       "      <td>2502.57</td>\n",
       "      <td>2505.98</td>\n",
       "      <td>2497.70</td>\n",
       "      <td>2500.26</td>\n",
       "      <td>3645</td>\n",
       "      <td>99942</td>\n",
       "      <td>2501.11</td>\n",
       "      <td>2.734039e+09</td>\n",
       "    </tr>\n",
       "    <tr>\n",
       "      <th>3</th>\n",
       "      <td>2024-01-01 09:31:00</td>\n",
       "      <td>IF2406</td>\n",
       "      <td>3803.91</td>\n",
       "      <td>3809.09</td>\n",
       "      <td>3796.50</td>\n",
       "      <td>3800.40</td>\n",
       "      <td>3645</td>\n",
       "      <td>99942</td>\n",
       "      <td>3801.69</td>\n",
       "      <td>4.155739e+09</td>\n",
       "    </tr>\n",
       "    <tr>\n",
       "      <th>4</th>\n",
       "      <td>2024-01-01 09:32:00</td>\n",
       "      <td>IH2406</td>\n",
       "      <td>2506.34</td>\n",
       "      <td>2509.85</td>\n",
       "      <td>2503.37</td>\n",
       "      <td>2505.94</td>\n",
       "      <td>3644</td>\n",
       "      <td>99993</td>\n",
       "      <td>2506.41</td>\n",
       "      <td>2.739497e+09</td>\n",
       "    </tr>\n",
       "    <tr>\n",
       "      <th>...</th>\n",
       "      <td>...</td>\n",
       "      <td>...</td>\n",
       "      <td>...</td>\n",
       "      <td>...</td>\n",
       "      <td>...</td>\n",
       "      <td>...</td>\n",
       "      <td>...</td>\n",
       "      <td>...</td>\n",
       "      <td>...</td>\n",
       "      <td>...</td>\n",
       "    </tr>\n",
       "    <tr>\n",
       "      <th>31195</th>\n",
       "      <td>2024-03-29 14:57:00</td>\n",
       "      <td>IH2406</td>\n",
       "      <td>13328.45</td>\n",
       "      <td>13352.18</td>\n",
       "      <td>13303.21</td>\n",
       "      <td>13309.35</td>\n",
       "      <td>3089</td>\n",
       "      <td>138221</td>\n",
       "      <td>13307.24</td>\n",
       "      <td>1.233378e+10</td>\n",
       "    </tr>\n",
       "    <tr>\n",
       "      <th>31196</th>\n",
       "      <td>2024-03-29 14:58:00</td>\n",
       "      <td>IF2406</td>\n",
       "      <td>20306.16</td>\n",
       "      <td>20342.54</td>\n",
       "      <td>20286.17</td>\n",
       "      <td>20311.15</td>\n",
       "      <td>3084</td>\n",
       "      <td>137376</td>\n",
       "      <td>20325.85</td>\n",
       "      <td>1.879187e+10</td>\n",
       "    </tr>\n",
       "    <tr>\n",
       "      <th>31197</th>\n",
       "      <td>2024-03-29 14:58:00</td>\n",
       "      <td>IH2406</td>\n",
       "      <td>13359.32</td>\n",
       "      <td>13383.25</td>\n",
       "      <td>13346.16</td>\n",
       "      <td>13362.60</td>\n",
       "      <td>3084</td>\n",
       "      <td>137376</td>\n",
       "      <td>13372.27</td>\n",
       "      <td>1.236308e+10</td>\n",
       "    </tr>\n",
       "    <tr>\n",
       "      <th>31198</th>\n",
       "      <td>2024-03-29 14:59:00</td>\n",
       "      <td>IH2406</td>\n",
       "      <td>13321.72</td>\n",
       "      <td>13333.95</td>\n",
       "      <td>13306.67</td>\n",
       "      <td>13319.41</td>\n",
       "      <td>3079</td>\n",
       "      <td>136898</td>\n",
       "      <td>13315.33</td>\n",
       "      <td>1.230314e+10</td>\n",
       "    </tr>\n",
       "    <tr>\n",
       "      <th>31199</th>\n",
       "      <td>2024-03-29 14:59:00</td>\n",
       "      <td>IF2406</td>\n",
       "      <td>20249.02</td>\n",
       "      <td>20267.60</td>\n",
       "      <td>20226.14</td>\n",
       "      <td>20245.51</td>\n",
       "      <td>3079</td>\n",
       "      <td>136898</td>\n",
       "      <td>20239.30</td>\n",
       "      <td>1.870078e+10</td>\n",
       "    </tr>\n",
       "  </tbody>\n",
       "</table>\n",
       "<p>31200 rows × 10 columns</p>\n",
       "</div>"
      ],
      "text/plain": [
       "                 timestamp  symbol      open      high       low     close  \\\n",
       "0      2024-01-01 09:30:00  IH2406   2502.74   2504.28   2500.80   2500.80   \n",
       "1      2024-01-01 09:30:00  IF2406   3804.16   3806.51   3801.21   3801.21   \n",
       "2      2024-01-01 09:31:00  IH2406   2502.57   2505.98   2497.70   2500.26   \n",
       "3      2024-01-01 09:31:00  IF2406   3803.91   3809.09   3796.50   3800.40   \n",
       "4      2024-01-01 09:32:00  IH2406   2506.34   2509.85   2503.37   2505.94   \n",
       "...                    ...     ...       ...       ...       ...       ...   \n",
       "31195  2024-03-29 14:57:00  IH2406  13328.45  13352.18  13303.21  13309.35   \n",
       "31196  2024-03-29 14:58:00  IF2406  20306.16  20342.54  20286.17  20311.15   \n",
       "31197  2024-03-29 14:58:00  IH2406  13359.32  13383.25  13346.16  13362.60   \n",
       "31198  2024-03-29 14:59:00  IH2406  13321.72  13333.95  13306.67  13319.41   \n",
       "31199  2024-03-29 14:59:00  IF2406  20249.02  20267.60  20226.14  20245.51   \n",
       "\n",
       "       volume  open_interest  settlement_price      turnover  \n",
       "0        3645         100092           2499.37  2.734621e+09  \n",
       "1        3645         100092           3799.04  4.156623e+09  \n",
       "2        3645          99942           2501.11  2.734039e+09  \n",
       "3        3645          99942           3801.69  4.155739e+09  \n",
       "4        3644          99993           2506.41  2.739497e+09  \n",
       "...       ...            ...               ...           ...  \n",
       "31195    3089         138221          13307.24  1.233378e+10  \n",
       "31196    3084         137376          20325.85  1.879187e+10  \n",
       "31197    3084         137376          13372.27  1.236308e+10  \n",
       "31198    3079         136898          13315.33  1.230314e+10  \n",
       "31199    3079         136898          20239.30  1.870078e+10  \n",
       "\n",
       "[31200 rows x 10 columns]"
      ]
     },
     "execution_count": 4,
     "metadata": {},
     "output_type": "execute_result"
    }
   ],
   "source": [
    "pd.read_parquet('data/sample_M_Y_IH_IF.parquet')"
   ]
  },
  {
   "cell_type": "code",
   "execution_count": null,
   "metadata": {},
   "outputs": [],
   "source": []
  },
  {
   "cell_type": "code",
   "execution_count": null,
   "metadata": {},
   "outputs": [],
   "source": []
  },
  {
   "cell_type": "code",
   "execution_count": null,
   "id": "cb213942",
   "metadata": {},
   "outputs": [
    {
     "name": "stdout",
     "output_type": "stream",
     "text": [
      "Collecting dolphindb\n",
      "  Downloading dolphindb-3.0.3.0-cp312-cp312-manylinux_2_17_x86_64.manylinux2014_x86_64.whl.metadata (1.8 kB)\n",
      "Requirement already satisfied: numpy>=1.18.0 in /home/uat/miniconda3/lib/python3.12/site-packages (from dolphindb) (2.2.3)\n",
      "Requirement already satisfied: pandas!=1.3.0,>=1.0.0 in /home/uat/miniconda3/lib/python3.12/site-packages (from dolphindb) (2.2.3)\n",
      "Collecting future (from dolphindb)\n",
      "  Downloading future-1.0.0-py3-none-any.whl.metadata (4.0 kB)\n",
      "Requirement already satisfied: packaging in /home/uat/miniconda3/lib/python3.12/site-packages (from dolphindb) (24.1)\n",
      "Requirement already satisfied: python-dateutil>=2.8.2 in /home/uat/miniconda3/lib/python3.12/site-packages (from pandas!=1.3.0,>=1.0.0->dolphindb) (2.9.0.post0)\n",
      "Requirement already satisfied: pytz>=2020.1 in /home/uat/miniconda3/lib/python3.12/site-packages (from pandas!=1.3.0,>=1.0.0->dolphindb) (2024.1)\n",
      "Requirement already satisfied: tzdata>=2022.7 in /home/uat/miniconda3/lib/python3.12/site-packages (from pandas!=1.3.0,>=1.0.0->dolphindb) (2025.1)\n",
      "Requirement already satisfied: six>=1.5 in /home/uat/miniconda3/lib/python3.12/site-packages (from python-dateutil>=2.8.2->pandas!=1.3.0,>=1.0.0->dolphindb) (1.17.0)\n",
      "Downloading dolphindb-3.0.3.0-cp312-cp312-manylinux_2_17_x86_64.manylinux2014_x86_64.whl (4.1 MB)\n",
      "\u001b[2K   \u001b[90m━━━━━━━━━━━━━━━━━━━━━━━━━━━━━━━━━━━━━━━━\u001b[0m \u001b[32m4.1/4.1 MB\u001b[0m \u001b[31m2.4 MB/s\u001b[0m eta \u001b[36m0:00:00\u001b[0ma \u001b[36m0:00:01\u001b[0mm\n",
      "\u001b[?25hDownloading future-1.0.0-py3-none-any.whl (491 kB)\n",
      "Installing collected packages: future, dolphindb\n",
      "Successfully installed dolphindb-3.0.3.0 future-1.0.0\n"
     ]
    }
   ],
   "source": [
    "# !pip install dolphindb\n",
    "import dolphindb as ddb"
   ]
  },
  {
   "cell_type": "code",
   "execution_count": 18,
   "id": "83558802",
   "metadata": {},
   "outputs": [],
   "source": [
    "import plotly.express as px\n",
    "import pandas as pd\n",
    "import numpy as np\n",
    "import matplotlib.pyplot as plt"
   ]
  },
  {
   "cell_type": "code",
   "execution_count": 3,
   "id": "16f17550",
   "metadata": {},
   "outputs": [
    {
     "data": {
      "text/plain": [
       "True"
      ]
     },
     "execution_count": 3,
     "metadata": {},
     "output_type": "execute_result"
    }
   ],
   "source": [
    "ss = ddb.session()\n",
    "ss.connect(\"localhost\", 8848, \"admin\", \"123456\")"
   ]
  },
  {
   "cell_type": "code",
   "execution_count": 5,
   "id": "bfe757b5",
   "metadata": {},
   "outputs": [],
   "source": [
    "df = ss.run(\"select * from bband_value_stream\")"
   ]
  },
  {
   "cell_type": "code",
   "execution_count": 23,
   "id": "55636759",
   "metadata": {},
   "outputs": [
    {
     "data": {
      "text/plain": [
       "<Axes: xlabel='datetime'>"
      ]
     },
     "execution_count": 23,
     "metadata": {},
     "output_type": "execute_result"
    },
    {
     "data": {
      "image/png": "[encoded data removed]",
      "text/plain": [
       "<Figure size 640x480 with 1 Axes>"
      ]
     },
     "metadata": {},
     "output_type": "display_data"
    }
   ],
   "source": [
    "df.set_index('datetime').drop(['latency','count'],axis=1).plot()"
   ]
  },
  {
   "cell_type": "code",
   "execution_count": 26,
   "id": "be6f72f1",
   "metadata": {},
   "outputs": [],
   "source": [
    "m_df = ss.run(\"barM\")\n",
    "y_df = ss.run(\"barY\")"
   ]
  },
  {
   "cell_type": "code",
   "execution_count": 30,
   "id": "17f9c380",
   "metadata": {},
   "outputs": [
    {
     "data": {
      "text/plain": [
       "0    4907.0\n",
       "1    4895.0\n",
       "2    4880.0\n",
       "3    4888.0\n",
       "4    4870.0\n",
       "5    4836.0\n",
       "6    4841.0\n",
       "7    4850.0\n",
       "8    4834.0\n",
       "9    4833.0\n",
       "Name: close, dtype: float64"
      ]
     },
     "execution_count": 30,
     "metadata": {},
     "output_type": "execute_result"
    }
   ],
   "source": [
    "(y_df['close'] - m_df['close']).head(10)"
   ]
  },
  {
   "cell_type": "code",
   "execution_count": 32,
   "id": "3540d6a4",
   "metadata": {},
   "outputs": [
    {
     "data": {
      "text/plain": [
       "0            NaN\n",
       "1            NaN\n",
       "2    4894.000000\n",
       "3    4887.666667\n",
       "4    4879.333333\n",
       "5    4864.666667\n",
       "6    4849.000000\n",
       "7    4842.333333\n",
       "8    4841.666667\n",
       "9    4839.000000\n",
       "Name: close, dtype: float64"
      ]
     },
     "execution_count": 32,
     "metadata": {},
     "output_type": "execute_result"
    }
   ],
   "source": [
    "(y_df['close'] - m_df['close']).rolling(3).mean().head(10)"
   ]
  },
  {
   "cell_type": "code",
   "execution_count": null,
   "id": "3180bf24",
   "metadata": {},
   "outputs": [],
   "source": []
  }
 ],
 "metadata": {
  "kernelspec": {
   "display_name": "base",
   "language": "python",
   "name": "python3"
  },
  "language_info": {
   "codemirror_mode": {
    "name": "ipython",
    "version": 3
   },
   "file_extension": ".py",
   "mimetype": "text/x-python",
   "name": "python",
   "nbconvert_exporter": "python",
   "pygments_lexer": "ipython3",
   "version": "3.12.2"
  }
 },
 "nbformat": 4,
 "nbformat_minor": 5
}
