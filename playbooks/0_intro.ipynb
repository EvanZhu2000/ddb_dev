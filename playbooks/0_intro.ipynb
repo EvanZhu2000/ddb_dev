{
 "cells": [
  {
   "cell_type": "markdown",
   "id": "6cf43148",
   "metadata": {},
   "source": [
    "python API"
   ]
  },
  {
   "cell_type": "code",
   "execution_count": 1,
   "id": "5da68682",
   "metadata": {},
   "outputs": [],
   "source": [
    "# !pip install dolphindb\n",
    "import dolphindb as ddb"
   ]
  },
  {
   "cell_type": "code",
   "execution_count": 2,
   "id": "170e1bb1",
   "metadata": {},
   "outputs": [
    {
     "data": {
      "text/plain": [
       "True"
      ]
     },
     "execution_count": 2,
     "metadata": {},
     "output_type": "execute_result"
    }
   ],
   "source": [
    "ss = ddb.session()\n",
    "ss.connect(\"192.168.91.124\", 8848, \"admin\", \"123456\") # make sure you can ping the ip first"
   ]
  },
  {
   "cell_type": "code",
   "execution_count": 3,
   "id": "dc151d17",
   "metadata": {},
   "outputs": [
    {
     "data": {
      "text/plain": [
       "3"
      ]
     },
     "execution_count": 3,
     "metadata": {},
     "output_type": "execute_result"
    }
   ],
   "source": [
    "ss.run(\"\"\"1+2\"\"\")"
   ]
  },
  {
   "cell_type": "code",
   "execution_count": null,
   "id": "5c8dfb9a",
   "metadata": {},
   "outputs": [],
   "source": []
  }
 ],
 "metadata": {
  "kernelspec": {
   "display_name": "base",
   "language": "python",
   "name": "python3"
  },
  "language_info": {
   "codemirror_mode": {
    "name": "ipython",
    "version": 3
   },
   "file_extension": ".py",
   "mimetype": "text/x-python",
   "name": "python",
   "nbconvert_exporter": "python",
   "pygments_lexer": "ipython3",
   "version": "3.12.2"
  }
 },
 "nbformat": 4,
 "nbformat_minor": 5
}
